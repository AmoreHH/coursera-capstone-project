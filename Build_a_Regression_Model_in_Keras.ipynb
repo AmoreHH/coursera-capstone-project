{
 "cells": [
  {
   "cell_type": "markdown",
   "id": "1900445c-a898-49fd-9302-169df6dd0aa5",
   "metadata": {},
   "source": [
    "# Introduction to Deep Learning & Neural Networks with Keras\n",
    "Week 5 Assignment : Build a Regression Model in Keras"
   ]
  },
  {
   "cell_type": "markdown",
   "id": "7b0def07-a390-4081-b989-e9b2fb4c5770",
   "metadata": {},
   "source": [
    "## Objective for this Notebook"
   ]
  },
  {
   "cell_type": "markdown",
   "id": "079baf2e-1702-40c7-ad93-2113e8619937",
   "metadata": {},
   "source": [
    "In this course project, you will build a regression model using the deep learning Keras library, and then you will experiment with increasing the number of training epochs and changing number of hidden layers and you will see how changing these parameters impacts the performance of the model."
   ]
  },
  {
   "cell_type": "markdown",
   "id": "5fda5fe2-9ef6-454e-a2db-c81d4cd78e93",
   "metadata": {},
   "source": [
    "## Download and Clean Dataset"
   ]
  },
  {
   "cell_type": "code",
   "execution_count": 66,
   "id": "070adf6e-5b5d-4b9a-a3d1-f2fad0cd5a94",
   "metadata": {},
   "outputs": [],
   "source": [
    "import pandas as pd\n",
    "import numpy as np"
   ]
  },
  {
   "cell_type": "code",
   "execution_count": 67,
   "id": "baa1d949-eb72-419c-a2de-f6449f152efe",
   "metadata": {},
   "outputs": [
    {
     "data": {
      "text/html": [
       "<div>\n",
       "<style scoped>\n",
       "    .dataframe tbody tr th:only-of-type {\n",
       "        vertical-align: middle;\n",
       "    }\n",
       "\n",
       "    .dataframe tbody tr th {\n",
       "        vertical-align: top;\n",
       "    }\n",
       "\n",
       "    .dataframe thead th {\n",
       "        text-align: right;\n",
       "    }\n",
       "</style>\n",
       "<table border=\"1\" class=\"dataframe\">\n",
       "  <thead>\n",
       "    <tr style=\"text-align: right;\">\n",
       "      <th></th>\n",
       "      <th>Cement</th>\n",
       "      <th>Blast Furnace Slag</th>\n",
       "      <th>Fly Ash</th>\n",
       "      <th>Water</th>\n",
       "      <th>Superplasticizer</th>\n",
       "      <th>Coarse Aggregate</th>\n",
       "      <th>Fine Aggregate</th>\n",
       "      <th>Age</th>\n",
       "      <th>Strength</th>\n",
       "    </tr>\n",
       "  </thead>\n",
       "  <tbody>\n",
       "    <tr>\n",
       "      <th>0</th>\n",
       "      <td>540.0</td>\n",
       "      <td>0.0</td>\n",
       "      <td>0.0</td>\n",
       "      <td>162.0</td>\n",
       "      <td>2.5</td>\n",
       "      <td>1040.0</td>\n",
       "      <td>676.0</td>\n",
       "      <td>28</td>\n",
       "      <td>79.99</td>\n",
       "    </tr>\n",
       "    <tr>\n",
       "      <th>1</th>\n",
       "      <td>540.0</td>\n",
       "      <td>0.0</td>\n",
       "      <td>0.0</td>\n",
       "      <td>162.0</td>\n",
       "      <td>2.5</td>\n",
       "      <td>1055.0</td>\n",
       "      <td>676.0</td>\n",
       "      <td>28</td>\n",
       "      <td>61.89</td>\n",
       "    </tr>\n",
       "    <tr>\n",
       "      <th>2</th>\n",
       "      <td>332.5</td>\n",
       "      <td>142.5</td>\n",
       "      <td>0.0</td>\n",
       "      <td>228.0</td>\n",
       "      <td>0.0</td>\n",
       "      <td>932.0</td>\n",
       "      <td>594.0</td>\n",
       "      <td>270</td>\n",
       "      <td>40.27</td>\n",
       "    </tr>\n",
       "    <tr>\n",
       "      <th>3</th>\n",
       "      <td>332.5</td>\n",
       "      <td>142.5</td>\n",
       "      <td>0.0</td>\n",
       "      <td>228.0</td>\n",
       "      <td>0.0</td>\n",
       "      <td>932.0</td>\n",
       "      <td>594.0</td>\n",
       "      <td>365</td>\n",
       "      <td>41.05</td>\n",
       "    </tr>\n",
       "    <tr>\n",
       "      <th>4</th>\n",
       "      <td>198.6</td>\n",
       "      <td>132.4</td>\n",
       "      <td>0.0</td>\n",
       "      <td>192.0</td>\n",
       "      <td>0.0</td>\n",
       "      <td>978.4</td>\n",
       "      <td>825.5</td>\n",
       "      <td>360</td>\n",
       "      <td>44.30</td>\n",
       "    </tr>\n",
       "  </tbody>\n",
       "</table>\n",
       "</div>"
      ],
      "text/plain": [
       "   Cement  Blast Furnace Slag  Fly Ash  Water  Superplasticizer  \\\n",
       "0   540.0                 0.0      0.0  162.0               2.5   \n",
       "1   540.0                 0.0      0.0  162.0               2.5   \n",
       "2   332.5               142.5      0.0  228.0               0.0   \n",
       "3   332.5               142.5      0.0  228.0               0.0   \n",
       "4   198.6               132.4      0.0  192.0               0.0   \n",
       "\n",
       "   Coarse Aggregate  Fine Aggregate  Age  Strength  \n",
       "0            1040.0           676.0   28     79.99  \n",
       "1            1055.0           676.0   28     61.89  \n",
       "2             932.0           594.0  270     40.27  \n",
       "3             932.0           594.0  365     41.05  \n",
       "4             978.4           825.5  360     44.30  "
      ]
     },
     "execution_count": 67,
     "metadata": {},
     "output_type": "execute_result"
    }
   ],
   "source": [
    "concrete_data = pd.read_csv('https://s3-api.us-geo.objectstorage.softlayer.net/cf-courses-data/CognitiveClass/DL0101EN/labs/data/concrete_data.csv')\n",
    "concrete_data.head()"
   ]
  },
  {
   "cell_type": "markdown",
   "id": "e689c5f0-d98d-464f-9f39-f430c267b4a9",
   "metadata": {},
   "source": [
    "### Check the data information \n",
    "\n",
    "The dataset is about the compressive strength of different samples of concrete based on the volumes of the different ingredients that were used to make them.\\\n",
    "Ingredients include:\n",
    "1. Cement\n",
    "2. Blast Furnace Slag\n",
    "3. Fly Ash\n",
    "4. Water\n",
    "5. Superplasticizer\n",
    "6. Coarse Aggregate\n",
    "7. Fine Aggregate"
   ]
  },
  {
   "cell_type": "code",
   "execution_count": 68,
   "id": "229d73d9-fca9-43ab-a2b9-fac8c99ab106",
   "metadata": {},
   "outputs": [
    {
     "name": "stdout",
     "output_type": "stream",
     "text": [
      "<class 'pandas.core.frame.DataFrame'>\n",
      "RangeIndex: 1030 entries, 0 to 1029\n",
      "Data columns (total 9 columns):\n",
      " #   Column              Non-Null Count  Dtype  \n",
      "---  ------              --------------  -----  \n",
      " 0   Cement              1030 non-null   float64\n",
      " 1   Blast Furnace Slag  1030 non-null   float64\n",
      " 2   Fly Ash             1030 non-null   float64\n",
      " 3   Water               1030 non-null   float64\n",
      " 4   Superplasticizer    1030 non-null   float64\n",
      " 5   Coarse Aggregate    1030 non-null   float64\n",
      " 6   Fine Aggregate      1030 non-null   float64\n",
      " 7   Age                 1030 non-null   int64  \n",
      " 8   Strength            1030 non-null   float64\n",
      "dtypes: float64(8), int64(1)\n",
      "memory usage: 72.5 KB\n"
     ]
    }
   ],
   "source": [
    "concrete_data.info()"
   ]
  },
  {
   "cell_type": "code",
   "execution_count": 69,
   "id": "eb22c8e2-9030-434f-b548-77499f6c20a8",
   "metadata": {},
   "outputs": [
    {
     "data": {
      "text/html": [
       "<div>\n",
       "<style scoped>\n",
       "    .dataframe tbody tr th:only-of-type {\n",
       "        vertical-align: middle;\n",
       "    }\n",
       "\n",
       "    .dataframe tbody tr th {\n",
       "        vertical-align: top;\n",
       "    }\n",
       "\n",
       "    .dataframe thead th {\n",
       "        text-align: right;\n",
       "    }\n",
       "</style>\n",
       "<table border=\"1\" class=\"dataframe\">\n",
       "  <thead>\n",
       "    <tr style=\"text-align: right;\">\n",
       "      <th></th>\n",
       "      <th>Cement</th>\n",
       "      <th>Blast Furnace Slag</th>\n",
       "      <th>Fly Ash</th>\n",
       "      <th>Water</th>\n",
       "      <th>Superplasticizer</th>\n",
       "      <th>Coarse Aggregate</th>\n",
       "      <th>Fine Aggregate</th>\n",
       "      <th>Age</th>\n",
       "      <th>Strength</th>\n",
       "    </tr>\n",
       "  </thead>\n",
       "  <tbody>\n",
       "    <tr>\n",
       "      <th>count</th>\n",
       "      <td>1030.00</td>\n",
       "      <td>1030.00</td>\n",
       "      <td>1030.00</td>\n",
       "      <td>1030.00</td>\n",
       "      <td>1030.00</td>\n",
       "      <td>1030.00</td>\n",
       "      <td>1030.00</td>\n",
       "      <td>1030.00</td>\n",
       "      <td>1030.00</td>\n",
       "    </tr>\n",
       "    <tr>\n",
       "      <th>mean</th>\n",
       "      <td>281.17</td>\n",
       "      <td>73.90</td>\n",
       "      <td>54.19</td>\n",
       "      <td>181.57</td>\n",
       "      <td>6.20</td>\n",
       "      <td>972.92</td>\n",
       "      <td>773.58</td>\n",
       "      <td>45.66</td>\n",
       "      <td>35.82</td>\n",
       "    </tr>\n",
       "    <tr>\n",
       "      <th>std</th>\n",
       "      <td>104.51</td>\n",
       "      <td>86.28</td>\n",
       "      <td>64.00</td>\n",
       "      <td>21.35</td>\n",
       "      <td>5.97</td>\n",
       "      <td>77.75</td>\n",
       "      <td>80.18</td>\n",
       "      <td>63.17</td>\n",
       "      <td>16.71</td>\n",
       "    </tr>\n",
       "    <tr>\n",
       "      <th>min</th>\n",
       "      <td>102.00</td>\n",
       "      <td>0.00</td>\n",
       "      <td>0.00</td>\n",
       "      <td>121.80</td>\n",
       "      <td>0.00</td>\n",
       "      <td>801.00</td>\n",
       "      <td>594.00</td>\n",
       "      <td>1.00</td>\n",
       "      <td>2.33</td>\n",
       "    </tr>\n",
       "    <tr>\n",
       "      <th>25%</th>\n",
       "      <td>192.38</td>\n",
       "      <td>0.00</td>\n",
       "      <td>0.00</td>\n",
       "      <td>164.90</td>\n",
       "      <td>0.00</td>\n",
       "      <td>932.00</td>\n",
       "      <td>730.95</td>\n",
       "      <td>7.00</td>\n",
       "      <td>23.71</td>\n",
       "    </tr>\n",
       "    <tr>\n",
       "      <th>50%</th>\n",
       "      <td>272.90</td>\n",
       "      <td>22.00</td>\n",
       "      <td>0.00</td>\n",
       "      <td>185.00</td>\n",
       "      <td>6.40</td>\n",
       "      <td>968.00</td>\n",
       "      <td>779.50</td>\n",
       "      <td>28.00</td>\n",
       "      <td>34.44</td>\n",
       "    </tr>\n",
       "    <tr>\n",
       "      <th>75%</th>\n",
       "      <td>350.00</td>\n",
       "      <td>142.95</td>\n",
       "      <td>118.30</td>\n",
       "      <td>192.00</td>\n",
       "      <td>10.20</td>\n",
       "      <td>1029.40</td>\n",
       "      <td>824.00</td>\n",
       "      <td>56.00</td>\n",
       "      <td>46.14</td>\n",
       "    </tr>\n",
       "    <tr>\n",
       "      <th>max</th>\n",
       "      <td>540.00</td>\n",
       "      <td>359.40</td>\n",
       "      <td>200.10</td>\n",
       "      <td>247.00</td>\n",
       "      <td>32.20</td>\n",
       "      <td>1145.00</td>\n",
       "      <td>992.60</td>\n",
       "      <td>365.00</td>\n",
       "      <td>82.60</td>\n",
       "    </tr>\n",
       "  </tbody>\n",
       "</table>\n",
       "</div>"
      ],
      "text/plain": [
       "        Cement  Blast Furnace Slag  Fly Ash    Water  Superplasticizer  \\\n",
       "count  1030.00             1030.00  1030.00  1030.00           1030.00   \n",
       "mean    281.17               73.90    54.19   181.57              6.20   \n",
       "std     104.51               86.28    64.00    21.35              5.97   \n",
       "min     102.00                0.00     0.00   121.80              0.00   \n",
       "25%     192.38                0.00     0.00   164.90              0.00   \n",
       "50%     272.90               22.00     0.00   185.00              6.40   \n",
       "75%     350.00              142.95   118.30   192.00             10.20   \n",
       "max     540.00              359.40   200.10   247.00             32.20   \n",
       "\n",
       "       Coarse Aggregate  Fine Aggregate      Age  Strength  \n",
       "count           1030.00         1030.00  1030.00   1030.00  \n",
       "mean             972.92          773.58    45.66     35.82  \n",
       "std               77.75           80.18    63.17     16.71  \n",
       "min              801.00          594.00     1.00      2.33  \n",
       "25%              932.00          730.95     7.00     23.71  \n",
       "50%              968.00          779.50    28.00     34.44  \n",
       "75%             1029.40          824.00    56.00     46.14  \n",
       "max             1145.00          992.60   365.00     82.60  "
      ]
     },
     "metadata": {},
     "output_type": "display_data"
    }
   ],
   "source": [
    "display(round(concrete_data.describe(),2))"
   ]
  },
  {
   "cell_type": "markdown",
   "id": "9145ca86-e2ad-4e9b-a711-e6e55708899e",
   "metadata": {},
   "source": [
    "### Split data into predictors and target"
   ]
  },
  {
   "cell_type": "code",
   "execution_count": 70,
   "id": "af97e9ae-2f8d-4fb2-bc52-21010e2f668d",
   "metadata": {},
   "outputs": [],
   "source": [
    "concrete_data_columns = concrete_data.columns\n",
    "\n",
    "predictors = concrete_data[concrete_data_columns[concrete_data_columns != 'Strength']] # all columns except Strength\n",
    "target = concrete_data['Strength'] # Strength column"
   ]
  },
  {
   "cell_type": "markdown",
   "id": "0ae96896-03d9-4b59-8ef2-9e97c4625cf0",
   "metadata": {},
   "source": [
    "## A. Build a baseline mode\n",
    "Use the Keras library to build a neural network with the following:\n",
    "\n",
    "- One hidden layer of 10 nodes, and a ReLU activation function\n",
    "- Use the adam optimizer and the mean squared error as the loss function.\n"
   ]
  },
  {
   "cell_type": "markdown",
   "id": "6d245767-e7d3-4c5a-8033-e5b0da303ab2",
   "metadata": {},
   "source": [
    "### Import packages from  Keras and sklearn"
   ]
  },
  {
   "cell_type": "code",
   "execution_count": 71,
   "id": "57d2e94f-07a8-4e76-8299-7b917184dbba",
   "metadata": {},
   "outputs": [],
   "source": [
    "import tensorflow as tf\n",
    "from tensorflow import keras  \n",
    "from keras import Sequential\n",
    "from keras.layers.core import Dense\n",
    "\n",
    "from sklearn.model_selection import train_test_split\n",
    "from sklearn.metrics import mean_squared_error"
   ]
  },
  {
   "cell_type": "markdown",
   "id": "bcf37975-c5cf-4c6d-8d25-6ef70a06f3a5",
   "metadata": {},
   "source": [
    "### 1. Split the data into a training and test sets\n",
    "Randomly split the data into a training and test sets by holding 30% of the data for testing. You can use the train_test_splithelper function from Scikit-learn."
   ]
  },
  {
   "cell_type": "code",
   "execution_count": 72,
   "id": "60991cf4-4027-4218-9949-796d77d59be6",
   "metadata": {},
   "outputs": [],
   "source": [
    "X = predictors\n",
    "y = target\n",
    "X_train, X_test, y_train, y_test = train_test_split(X, y, test_size=0.30, random_state=42)\n",
    "n_cols = X_train.shape[1]"
   ]
  },
  {
   "cell_type": "code",
   "execution_count": 73,
   "id": "e5756a2b-0da5-47c2-a4fa-6b93e8dbf622",
   "metadata": {},
   "outputs": [],
   "source": [
    "# define regression model\n",
    "def regression_model():\n",
    "    # create model\n",
    "    model = Sequential()\n",
    "    model.add(Dense(10, activation='relu', input_shape=(n_cols,)))\n",
    "    model.add(Dense(1))\n",
    "    \n",
    "    # compile model\n",
    "    model.compile(optimizer='adam', loss='mean_squared_error')\n",
    "    return model"
   ]
  },
  {
   "cell_type": "code",
   "execution_count": 74,
   "id": "ccfc469e-9453-49a4-8204-5dc9dd99bf94",
   "metadata": {},
   "outputs": [],
   "source": [
    "# build the model\n",
    "model = regression_model()"
   ]
  },
  {
   "cell_type": "markdown",
   "id": "14245046-3e54-4e99-8952-da36461dfd62",
   "metadata": {},
   "source": [
    "### 2. Train the model on the training data using 50 epochs."
   ]
  },
  {
   "cell_type": "code",
   "execution_count": 75,
   "id": "eaac576e-a199-48a8-a16c-a4e7c9385a91",
   "metadata": {},
   "outputs": [
    {
     "data": {
      "text/plain": [
       "<keras.callbacks.History at 0x123eae850>"
      ]
     },
     "execution_count": 75,
     "metadata": {},
     "output_type": "execute_result"
    }
   ],
   "source": [
    "model.fit(X_train, y_train, epochs=50, verbose = 0)"
   ]
  },
  {
   "cell_type": "markdown",
   "id": "d6fdf9cc-14f9-4891-bbfb-1e728aeff15f",
   "metadata": {},
   "source": [
    "### 3.  Evaluate the model\n",
    "Evaluate the model on the test data and compute the mean squared error between the predicted concrete strength and the actual concrete strength. You can use the mean_squared_error function from Scikit-learn.\n"
   ]
  },
  {
   "cell_type": "code",
   "execution_count": 76,
   "id": "194172f5-d8e8-452f-aabe-21e9488121a1",
   "metadata": {},
   "outputs": [
    {
     "name": "stdout",
     "output_type": "stream",
     "text": [
      "459.16501861109157\n"
     ]
    }
   ],
   "source": [
    "y_predict = model.predict(X_test)\n",
    "MSE = mean_squared_error(y_test, y_predict)\n",
    "print(MSE)"
   ]
  },
  {
   "cell_type": "markdown",
   "id": "5e84ddaa-4164-4cac-a267-c1e6c14ebdb8",
   "metadata": {},
   "source": [
    "### 4. Create a list of 50 MSE\n",
    "Repeat steps 1 - 3, 50 times"
   ]
  },
  {
   "cell_type": "code",
   "execution_count": 77,
   "id": "09789db2-21a3-4350-96fb-b518ad822be6",
   "metadata": {},
   "outputs": [],
   "source": [
    "MSE = []\n",
    "for k in range(50):\n",
    "    X_train, X_test, y_train, y_test = train_test_split(X, y, test_size=0.30)\n",
    "    model = regression_model()\n",
    "    model.fit(X_train, y_train, epochs=50, verbose = 0)\n",
    "    y_predict = model.predict(X_test)\n",
    "    MSE.append(mean_squared_error(y_test, y_predict))"
   ]
  },
  {
   "cell_type": "markdown",
   "id": "42ee0828-5e10-4700-8c00-fc26b21e5366",
   "metadata": {},
   "source": [
    "### 5. Report\n",
    "Report the mean and the standard deviation of the mean squared errors."
   ]
  },
  {
   "cell_type": "code",
   "execution_count": 78,
   "id": "dd457f22-7b15-4759-af06-013b2db1f25b",
   "metadata": {},
   "outputs": [
    {
     "name": "stdout",
     "output_type": "stream",
     "text": [
      " The mean of the mean squared errors is 335.7657509889011\n",
      " The standard deviation of the mean squared errors is 425.6367193693339\n"
     ]
    }
   ],
   "source": [
    "MSE_A = pd.DataFrame(MSE, columns =['MSE_A'], dtype=float)\n",
    "MSE_A.sort_values(by='MSE_A')\n",
    "\n",
    "from statistics import mean, stdev\n",
    "mean_MSE_A = mean(MSE)\n",
    "std_MSE_A =stdev(MSE)\n",
    "print(f' The mean of the mean squared errors is {mean_MSE_A}')\n",
    "print(f' The standard deviation of the mean squared errors is {std_MSE_A}')"
   ]
  },
  {
   "cell_type": "markdown",
   "id": "3075c95d-08c2-4b8a-8614-f817c1814f11",
   "metadata": {},
   "source": [
    "## B. Normalize the data \n",
    "- Repeat Part A but use a normalized version of the data. \n",
    "- Recall that one way to normalize the data is by subtracting the mean from the individual predictors and dividing by the standard deviation.\n",
    "- How does the mean of the mean squared errors compare to that from Step A?\n"
   ]
  },
  {
   "cell_type": "code",
   "execution_count": 79,
   "id": "5e7b6aae-62d8-4273-a5be-ccc85d089444",
   "metadata": {},
   "outputs": [
    {
     "data": {
      "text/html": [
       "<div>\n",
       "<style scoped>\n",
       "    .dataframe tbody tr th:only-of-type {\n",
       "        vertical-align: middle;\n",
       "    }\n",
       "\n",
       "    .dataframe tbody tr th {\n",
       "        vertical-align: top;\n",
       "    }\n",
       "\n",
       "    .dataframe thead th {\n",
       "        text-align: right;\n",
       "    }\n",
       "</style>\n",
       "<table border=\"1\" class=\"dataframe\">\n",
       "  <thead>\n",
       "    <tr style=\"text-align: right;\">\n",
       "      <th></th>\n",
       "      <th>Cement</th>\n",
       "      <th>Blast Furnace Slag</th>\n",
       "      <th>Fly Ash</th>\n",
       "      <th>Water</th>\n",
       "      <th>Superplasticizer</th>\n",
       "      <th>Coarse Aggregate</th>\n",
       "      <th>Fine Aggregate</th>\n",
       "      <th>Age</th>\n",
       "    </tr>\n",
       "  </thead>\n",
       "  <tbody>\n",
       "    <tr>\n",
       "      <th>0</th>\n",
       "      <td>2.476712</td>\n",
       "      <td>-0.856472</td>\n",
       "      <td>-0.846733</td>\n",
       "      <td>-0.916319</td>\n",
       "      <td>-0.620147</td>\n",
       "      <td>0.862735</td>\n",
       "      <td>-1.217079</td>\n",
       "      <td>-0.279597</td>\n",
       "    </tr>\n",
       "    <tr>\n",
       "      <th>1</th>\n",
       "      <td>2.476712</td>\n",
       "      <td>-0.856472</td>\n",
       "      <td>-0.846733</td>\n",
       "      <td>-0.916319</td>\n",
       "      <td>-0.620147</td>\n",
       "      <td>1.055651</td>\n",
       "      <td>-1.217079</td>\n",
       "      <td>-0.279597</td>\n",
       "    </tr>\n",
       "    <tr>\n",
       "      <th>2</th>\n",
       "      <td>0.491187</td>\n",
       "      <td>0.795140</td>\n",
       "      <td>-0.846733</td>\n",
       "      <td>2.174405</td>\n",
       "      <td>-1.038638</td>\n",
       "      <td>-0.526262</td>\n",
       "      <td>-2.239829</td>\n",
       "      <td>3.551340</td>\n",
       "    </tr>\n",
       "    <tr>\n",
       "      <th>3</th>\n",
       "      <td>0.491187</td>\n",
       "      <td>0.795140</td>\n",
       "      <td>-0.846733</td>\n",
       "      <td>2.174405</td>\n",
       "      <td>-1.038638</td>\n",
       "      <td>-0.526262</td>\n",
       "      <td>-2.239829</td>\n",
       "      <td>5.055221</td>\n",
       "    </tr>\n",
       "    <tr>\n",
       "      <th>4</th>\n",
       "      <td>-0.790075</td>\n",
       "      <td>0.678079</td>\n",
       "      <td>-0.846733</td>\n",
       "      <td>0.488555</td>\n",
       "      <td>-1.038638</td>\n",
       "      <td>0.070492</td>\n",
       "      <td>0.647569</td>\n",
       "      <td>4.976069</td>\n",
       "    </tr>\n",
       "  </tbody>\n",
       "</table>\n",
       "</div>"
      ],
      "text/plain": [
       "     Cement  Blast Furnace Slag   Fly Ash     Water  Superplasticizer  \\\n",
       "0  2.476712           -0.856472 -0.846733 -0.916319         -0.620147   \n",
       "1  2.476712           -0.856472 -0.846733 -0.916319         -0.620147   \n",
       "2  0.491187            0.795140 -0.846733  2.174405         -1.038638   \n",
       "3  0.491187            0.795140 -0.846733  2.174405         -1.038638   \n",
       "4 -0.790075            0.678079 -0.846733  0.488555         -1.038638   \n",
       "\n",
       "   Coarse Aggregate  Fine Aggregate       Age  \n",
       "0          0.862735       -1.217079 -0.279597  \n",
       "1          1.055651       -1.217079 -0.279597  \n",
       "2         -0.526262       -2.239829  3.551340  \n",
       "3         -0.526262       -2.239829  5.055221  \n",
       "4          0.070492        0.647569  4.976069  "
      ]
     },
     "execution_count": 79,
     "metadata": {},
     "output_type": "execute_result"
    }
   ],
   "source": [
    "predictors_norm = (predictors - predictors.mean()) / predictors.std()\n",
    "predictors_norm.head()"
   ]
  },
  {
   "cell_type": "code",
   "execution_count": 80,
   "id": "4c2ced63-9505-4320-8348-f0f7b332aec2",
   "metadata": {},
   "outputs": [],
   "source": [
    "X = predictors_norm\n",
    "y = target\n",
    "MSE = []\n",
    "\n",
    "for k in range(50):\n",
    "    X_train, X_test, y_train, y_test = train_test_split(X, y, test_size=0.30)\n",
    "    model = regression_model()\n",
    "    model.fit(X_train, y_train, epochs=50, verbose = 0)\n",
    "    y_predict = model.predict(X_test)\n",
    "    MSE.append(mean_squared_error(y_test, y_predict))\n"
   ]
  },
  {
   "cell_type": "code",
   "execution_count": 81,
   "id": "a9168a29-a25e-4422-be8e-1a704baa751e",
   "metadata": {},
   "outputs": [
    {
     "name": "stdout",
     "output_type": "stream",
     "text": [
      " The mean of the mean squared errors is 365.3294628332381\n",
      " The standard deviation of the mean squared errors is 96.34162845209775\n"
     ]
    }
   ],
   "source": [
    "MSE_B = pd.DataFrame(MSE, columns =['MSE_B'], dtype=float)\n",
    "MSE_B.sort_values(by='MSE_B')\n",
    "\n",
    "mean_MSE_B = mean(MSE)\n",
    "std_MSE_B =stdev(MSE)\n",
    "print(f' The mean of the mean squared errors is {mean_MSE_B}')\n",
    "print(f' The standard deviation of the mean squared errors is {std_MSE_B}')"
   ]
  },
  {
   "cell_type": "markdown",
   "id": "3cc28c7c-41db-40ef-b04a-5f9b66fec614",
   "metadata": {},
   "source": [
    "## C. Increate the number of epochs\n",
    "\n",
    "- Repeat Part B but use 100 epochs this time for training.\n",
    "- How does the mean of the mean squared errors compare to that from Step B?\n"
   ]
  },
  {
   "cell_type": "code",
   "execution_count": 82,
   "id": "7fca92b7-0044-49ab-8d94-da11a272fc96",
   "metadata": {},
   "outputs": [],
   "source": [
    "X = predictors_norm\n",
    "y = target\n",
    "MSE = []\n",
    "\n",
    "for k in range(50):\n",
    "    X_train, X_test, y_train, y_test = train_test_split(X, y, test_size=0.30)\n",
    "    model = regression_model()\n",
    "    model.fit(X_train, y_train, epochs=100, verbose = 0)\n",
    "    y_predict = model.predict(X_test)\n",
    "    MSE.append(mean_squared_error(y_test, y_predict))"
   ]
  },
  {
   "cell_type": "code",
   "execution_count": 83,
   "id": "be91ef4b-79bc-4edb-a62f-c035cc3caf70",
   "metadata": {},
   "outputs": [
    {
     "name": "stdout",
     "output_type": "stream",
     "text": [
      " The mean of the mean squared errors is 170.45961969607362\n",
      " The standard deviation of the mean squared errors is 14.716903822206659\n"
     ]
    }
   ],
   "source": [
    "MSE_C = pd.DataFrame(MSE, columns =['MSE_C'], dtype=float)\n",
    "MSE_C.sort_values(by='MSE_C')\n",
    "\n",
    "\n",
    "mean_MSE_C = mean(MSE)\n",
    "std_MSE_C =stdev(MSE)\n",
    "print(f' The mean of the mean squared errors is {mean_MSE_C}')\n",
    "print(f' The standard deviation of the mean squared errors is {std_MSE_C}')"
   ]
  },
  {
   "cell_type": "markdown",
   "id": "c1e0b92e-7015-4752-b55f-a2507925c5e4",
   "metadata": {},
   "source": [
    "## D. Increase the number of hidden layers\n",
    "\n",
    "- Repeat part B but use a neural network with the following instead:\\\n",
    " Three hidden layers, each of 10 nodes and ReLU activation function.\n",
    "\n",
    "- How does the mean of the mean squared errors compare to that from Step B?"
   ]
  },
  {
   "cell_type": "code",
   "execution_count": 84,
   "id": "08e0b283-30fe-439d-8ef4-8b89418a23cf",
   "metadata": {},
   "outputs": [],
   "source": [
    "# define regression model\n",
    "def regression_model_3():\n",
    "    # create model\n",
    "    model = Sequential()\n",
    "    model.add(Dense(10, activation='relu', input_shape=(n_cols,)))\n",
    "    model.add(Dense(10, activation='relu'))\n",
    "    model.add(Dense(10, activation='relu'))\n",
    "    model.add(Dense(1))\n",
    "    \n",
    "    # compile model\n",
    "    model.compile(optimizer='adam', loss='mean_squared_error')\n",
    "    return model"
   ]
  },
  {
   "cell_type": "code",
   "execution_count": 85,
   "id": "eb90c45d-0b3d-4bf7-ac5a-4919e6e81754",
   "metadata": {},
   "outputs": [],
   "source": [
    "# build the model\n",
    "model = regression_model_3()"
   ]
  },
  {
   "cell_type": "code",
   "execution_count": 89,
   "id": "5d0425da-7901-4382-ae07-47b4ee9a9afd",
   "metadata": {},
   "outputs": [],
   "source": [
    "X = predictors_norm\n",
    "y = target\n",
    "MSE = []\n",
    "\n",
    "for k in range(50):\n",
    "    X_train, X_test, y_train, y_test = train_test_split(X, y, test_size=0.30)\n",
    "    model = regression_model()\n",
    "    model.fit(X_train, y_train, epochs=50, verbose = 0)\n",
    "    y_predict = model.predict(X_test)\n",
    "    MSE.append(mean_squared_error(y_test, y_predict))"
   ]
  },
  {
   "cell_type": "code",
   "execution_count": 90,
   "id": "9dad32c1-5de7-4b80-8748-eccc0c8ac0c6",
   "metadata": {},
   "outputs": [
    {
     "name": "stdout",
     "output_type": "stream",
     "text": [
      " The mean of the mean squared errors is 351.96636692423374\n",
      " The standard deviation of the mean squared errors is 108.30591596304117\n"
     ]
    }
   ],
   "source": [
    "MSE_D = pd.DataFrame(MSE, columns =['MSE_D'], dtype=float)\n",
    "MSE_D.sort_values(by='MSE_D')\n",
    "\n",
    "\n",
    "mean_MSE_D = mean(MSE)\n",
    "std_MSE_D =stdev(MSE)\n",
    "print(f' The mean of the mean squared errors is {mean_MSE_D}')\n",
    "print(f' The standard deviation of the mean squared errors is {std_MSE_D}')"
   ]
  },
  {
   "cell_type": "markdown",
   "id": "13a7b80a-7e55-48da-86bd-06d4b2969954",
   "metadata": {},
   "source": [
    "## Compare the results between different model setting"
   ]
  },
  {
   "cell_type": "code",
   "execution_count": 92,
   "id": "0694076b-d4cb-47b7-b9f3-45e704d254d8",
   "metadata": {},
   "outputs": [
    {
     "data": {
      "text/html": [
       "<div>\n",
       "<style scoped>\n",
       "    .dataframe tbody tr th:only-of-type {\n",
       "        vertical-align: middle;\n",
       "    }\n",
       "\n",
       "    .dataframe tbody tr th {\n",
       "        vertical-align: top;\n",
       "    }\n",
       "\n",
       "    .dataframe thead th {\n",
       "        text-align: right;\n",
       "    }\n",
       "</style>\n",
       "<table border=\"1\" class=\"dataframe\">\n",
       "  <thead>\n",
       "    <tr style=\"text-align: right;\">\n",
       "      <th></th>\n",
       "      <th>Part</th>\n",
       "      <th>mean</th>\n",
       "      <th>std</th>\n",
       "    </tr>\n",
       "  </thead>\n",
       "  <tbody>\n",
       "    <tr>\n",
       "      <th>0</th>\n",
       "      <td>A</td>\n",
       "      <td>335.77</td>\n",
       "      <td>425.64</td>\n",
       "    </tr>\n",
       "    <tr>\n",
       "      <th>1</th>\n",
       "      <td>B</td>\n",
       "      <td>365.33</td>\n",
       "      <td>96.34</td>\n",
       "    </tr>\n",
       "    <tr>\n",
       "      <th>2</th>\n",
       "      <td>C</td>\n",
       "      <td>170.46</td>\n",
       "      <td>14.72</td>\n",
       "    </tr>\n",
       "    <tr>\n",
       "      <th>3</th>\n",
       "      <td>D</td>\n",
       "      <td>351.97</td>\n",
       "      <td>108.31</td>\n",
       "    </tr>\n",
       "  </tbody>\n",
       "</table>\n",
       "</div>"
      ],
      "text/plain": [
       "  Part   mean    std\n",
       "0    A 335.77 425.64\n",
       "1    B 365.33  96.34\n",
       "2    C 170.46  14.72\n",
       "3    D 351.97 108.31"
      ]
     },
     "metadata": {},
     "output_type": "display_data"
    }
   ],
   "source": [
    "data = {'Part': ['A', 'B', 'C', 'D'],\n",
    "        'mean': [mean_MSE_A, mean_MSE_B, mean_MSE_C, mean_MSE_D], \n",
    "        'std': [std_MSE_A, std_MSE_B, std_MSE_C, std_MSE_D]\n",
    "        }\n",
    "\n",
    "df = pd.DataFrame(data)\n",
    "pd.options.display.float_format = '{:,.2f}'.format\n",
    "display (df)"
   ]
  },
  {
   "cell_type": "code",
   "execution_count": null,
   "id": "26de21e2-4703-48fd-a87f-9f2e19bc8c28",
   "metadata": {},
   "outputs": [],
   "source": []
  }
 ],
 "metadata": {
  "kernelspec": {
   "display_name": "Python 3",
   "language": "python",
   "name": "python3"
  },
  "language_info": {
   "codemirror_mode": {
    "name": "ipython",
    "version": 3
   },
   "file_extension": ".py",
   "mimetype": "text/x-python",
   "name": "python",
   "nbconvert_exporter": "python",
   "pygments_lexer": "ipython3",
   "version": "3.9.5"
  }
 },
 "nbformat": 4,
 "nbformat_minor": 5
}
